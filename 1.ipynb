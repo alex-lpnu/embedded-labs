{
 "cells": [
  {
   "cell_type": "code",
   "execution_count": 1,
   "id": "1fc850d2",
   "metadata": {},
   "outputs": [
    {
     "name": "stdout",
     "output_type": "stream",
     "text": [
      "\u001b[34mConnecting to --port=/dev/ttyUSB0 --baud=115200 \u001b[0m\n",
      "\u001b[34mReady.\n",
      "\u001b[0m"
     ]
    }
   ],
   "source": [
    "%serialconnect"
   ]
  },
  {
   "cell_type": "code",
   "execution_count": 12,
   "id": "09c8b939",
   "metadata": {},
   "outputs": [],
   "source": [
    "from common import task\n",
    "from machine import ADC, Pin, DAC, PWM, I2C\n",
    "from sht31 import SHT31\n",
    "import pinout\n",
    "import time\n",
    "import math"
   ]
  },
  {
   "cell_type": "code",
   "execution_count": 3,
   "id": "1fc1e60a",
   "metadata": {},
   "outputs": [
    {
     "name": "stdout",
     "output_type": "stream",
     "text": [
      "**************************************************\n",
      "Start Of Task #1\n",
      "**************************************************\n",
      "Hello world\n",
      "**************************************************\n",
      "End Of Task #1\n",
      "**************************************************\n"
     ]
    }
   ],
   "source": [
    "@task('1')\n",
    "def task_1():\n",
    "    print('Hello world')\n",
    "    \n",
    "task_1()"
   ]
  },
  {
   "cell_type": "code",
   "execution_count": 4,
   "id": "99ea0e9b",
   "metadata": {},
   "outputs": [
    {
     "name": "stdout",
     "output_type": "stream",
     "text": [
      "**************************************************\n",
      "Start Of Task #2: ADC\n",
      "**************************************************\n",
      "ADC reading: 4095\n",
      "ADC reading: 4095\n",
      "ADC reading: 4095\n",
      "ADC reading: 2711\n",
      "ADC reading: 1600\n",
      "ADC reading: 243\n",
      "ADC reading: 1643\n",
      "ADC reading: 2646\n",
      "ADC reading: 2519\n",
      "ADC reading: 851\n",
      ".**************************************************\n",
      "End Of Task #2: ADC\n",
      "**************************************************\n"
     ]
    }
   ],
   "source": [
    "@task('2: ADC')\n",
    "def task_2_adc():\n",
    "    adc = ADC(Pin(pinout.potentiometer))\n",
    "    adc.atten(ADC.ATTN_11DB) \n",
    "    for i in range(10):\n",
    "        print(f'ADC reading: {adc.read()}')\n",
    "        time.sleep(1)\n",
    "    \n",
    "task_2_adc()"
   ]
  },
  {
   "cell_type": "code",
   "execution_count": 5,
   "id": "533dcf4d",
   "metadata": {},
   "outputs": [
    {
     "name": "stdout",
     "output_type": "stream",
     "text": [
      "**************************************************\n",
      "Start Of Task #3: DAC\n",
      "**************************************************\n",
      "writing 128\n",
      "writing 144\n",
      "writing 160\n",
      "writing 176\n",
      "writing 192\n",
      "writing 208\n",
      "writing 224\n",
      "writing 240\n",
      "**************************************************\n",
      "End Of Task #3: DAC\n",
      "**************************************************\n"
     ]
    }
   ],
   "source": [
    "@task('3: DAC')\n",
    "def task_3_dac():\n",
    "    dac = DAC(Pin(pinout.dac[0]))\n",
    "    for i in range(8, 16):\n",
    "        dac.write(i * 16)\n",
    "        time.sleep(1)\n",
    "        print(f'writing {i*16}')\n",
    "    \n",
    "task_3_dac()"
   ]
  },
  {
   "cell_type": "code",
   "execution_count": 6,
   "id": "0d190355",
   "metadata": {},
   "outputs": [
    {
     "name": "stdout",
     "output_type": "stream",
     "text": [
      "**************************************************\n",
      "Start Of Task #4: PWM\n",
      "**************************************************\n",
      "Set PWM duty to 0\n",
      "Set PWM duty to 5\n",
      "Set PWM duty to 10\n",
      "Set PWM duty to 15\n",
      "Set PWM duty to 20\n",
      "Set PWM duty to 25\n",
      "Set PWM duty to 30\n",
      "Set PWM duty to 35\n",
      "Set PWM duty to 40\n",
      "Set PWM duty to 45\n",
      "Set PWM duty to 50\n",
      "Set PWM duty to 55\n",
      "Set PWM duty to 60\n",
      "Set PWM duty to 65\n",
      "Set PWM duty to 70\n",
      "**************************************************\n",
      "End Of Task #4: PWM\n",
      "**************************************************\n"
     ]
    }
   ],
   "source": [
    "@task('4: PWM')\n",
    "def task_4_pwm():\n",
    "    pwm = PWM(Pin(pinout.leds[0]))\n",
    "    for i in range(0, 75, 5):\n",
    "        pwm.duty(i)\n",
    "        print(f'Set PWM duty to {i}')\n",
    "        time.sleep_ms(500)\n",
    "    \n",
    "task_4_pwm()"
   ]
  },
  {
   "cell_type": "code",
   "execution_count": 13,
   "id": "1cbaf409",
   "metadata": {},
   "outputs": [
    {
     "name": "stdout",
     "output_type": "stream",
     "text": [
      "**************************************************\n",
      "Start Of Task #5: I2C temperature and humidity\n",
      "**************************************************\n",
      "Temperature: 25.68628, Humidity: 53.88724\n",
      "**************************************************\n",
      "End Of Task #5: I2C temperature and humidity\n",
      "**************************************************\n"
     ]
    }
   ],
   "source": [
    "@task('5: I2C temperature and humidity')\n",
    "def task_5_temp_hum():\n",
    "    i2c = I2C(0, scl=Pin(pinout.scl), sda=Pin(pinout.sda), freq=400000)\n",
    "    th_sensor = SHT31(i2c)\n",
    "    \n",
    "    temp, humidity = th_sensor.get_temp_humi()\n",
    "    print(f'Temperature: {temp}, Humidity: {humidity}')\n",
    "    \n",
    "task_5_temp_hum()"
   ]
  }
 ],
 "metadata": {
  "kernelspec": {
   "display_name": "MicroPython - USB",
   "language": "micropython",
   "name": "micropython"
  },
  "language_info": {
   "codemirror_mode": "python",
   "file_extension": ".py",
   "mimetype": "text/python",
   "name": "micropython"
  }
 },
 "nbformat": 4,
 "nbformat_minor": 5
}

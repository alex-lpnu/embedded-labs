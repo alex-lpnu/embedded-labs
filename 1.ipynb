{
 "cells": [
  {
   "cell_type": "code",
   "execution_count": 2,
   "id": "c5c75aee",
   "metadata": {},
   "outputs": [
    {
     "name": "stdout",
     "output_type": "stream",
     "text": [
      "\u001b[34mConnecting to --port=/dev/ttyUSB0 --baud=115200 \u001b[0m\n",
      "\u001b[34mReady.\n",
      "\u001b[0m"
     ]
    }
   ],
   "source": [
    "%serialconnect"
   ]
  },
  {
   "cell_type": "code",
   "execution_count": 91,
   "id": "6b058a78",
   "metadata": {},
   "outputs": [],
   "source": [
    "from common import task\n",
    "from machine import ADC, Pin, DAC\n",
    "import pinout\n",
    "import time\n",
    "import math"
   ]
  },
  {
   "cell_type": "code",
   "execution_count": 84,
   "id": "ffeb5baf",
   "metadata": {},
   "outputs": [],
   "source": [
    "@task('1')\n",
    "def task_1():\n",
    "    print('Hello world')\n",
    "    \n",
    "task_1()"
   ]
  },
  {
   "cell_type": "code",
   "execution_count": 85,
   "id": "95a36837",
   "metadata": {},
   "outputs": [],
   "source": [
    "@task('2: ADC')\n",
    "def task_2_adc():\n",
    "    adc = ADC(Pin(pinout.potentiometer))\n",
    "    adc.atten(ADC.ATTN_11DB) \n",
    "    for i in range(10):\n",
    "        print(f'ADC reading: {adc.read()}')\n",
    "        time.sleep(1)\n",
    "    \n",
    "task_2_adc()"
   ]
  },
  {
   "cell_type": "code",
   "execution_count": 118,
   "id": "d7b93690",
   "metadata": {},
   "outputs": [
    {
     "name": "stdout",
     "output_type": "stream",
     "text": [
      "**************************************************\n",
      "Start Of Task #3: DAC\n",
      "**************************************************\n",
      "writing 128\n",
      "writing 144\n",
      "writing 160\n",
      "writing 176\n",
      "writing 192\n",
      "writing 208\n",
      ".writing 224\n",
      "writing 240\n",
      "**************************************************\n",
      "End Of Task #3: DAC\n",
      "**************************************************\n"
     ]
    }
   ],
   "source": [
    "@task('3: DAC')\n",
    "def task_3_dac():\n",
    "    dac = DAC(Pin(pinout.dac[0]))\n",
    "    for i in range(8, 16):\n",
    "        dac.write(i * 16)\n",
    "        time.sleep(1)\n",
    "        print(f'writing {i*16}')\n",
    "    \n",
    "task_3_dac()"
   ]
  },
  {
   "cell_type": "code",
   "execution_count": null,
   "id": "d974a596",
   "metadata": {},
   "outputs": [],
   "source": []
  }
 ],
 "metadata": {
  "kernelspec": {
   "display_name": "MicroPython - USB",
   "language": "micropython",
   "name": "micropython"
  },
  "language_info": {
   "codemirror_mode": "python",
   "file_extension": ".py",
   "mimetype": "text/python",
   "name": "micropython"
  }
 },
 "nbformat": 4,
 "nbformat_minor": 5
}

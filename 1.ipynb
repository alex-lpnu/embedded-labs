{
 "cells": [
  {
   "cell_type": "code",
   "execution_count": 2,
   "id": "3e2ae8d3",
   "metadata": {},
   "outputs": [
    {
     "name": "stdout",
     "output_type": "stream",
     "text": [
      "\u001b[34mConnecting to --port=/dev/ttyUSB0 --baud=115200 \u001b[0m\n",
      "\u001b[34mReady.\n",
      "\u001b[0m"
     ]
    }
   ],
   "source": [
    "%serialconnect"
   ]
  },
  {
   "cell_type": "code",
   "execution_count": 66,
   "id": "1ceeb952",
   "metadata": {},
   "outputs": [],
   "source": [
    "from common import task\n",
    "from machine import ADC, Pin\n",
    "import pinout\n",
    "import time"
   ]
  },
  {
   "cell_type": "code",
   "execution_count": 68,
   "id": "15d64ab4",
   "metadata": {},
   "outputs": [],
   "source": [
    "@task('1')\n",
    "def task_1():\n",
    "    print('Hello world')"
   ]
  },
  {
   "cell_type": "code",
   "execution_count": 77,
   "id": "bcdc6cfd",
   "metadata": {},
   "outputs": [],
   "source": [
    "@task('2: ADC')\n",
    "def task_2_adc():\n",
    "    adc = ADC(Pin(pinout.potentiometer))\n",
    "    adc.atten(ADC.ATTN_11DB) \n",
    "    for i in range(10):\n",
    "        print(f'ADC reading: {adc.read()}')\n",
    "        time.sleep(1)\n",
    "    "
   ]
  },
  {
   "cell_type": "code",
   "execution_count": 78,
   "id": "99e17885",
   "metadata": {},
   "outputs": [
    {
     "name": "stdout",
     "output_type": "stream",
     "text": [
      "**************************************************\n",
      "Start Of Task #1\n",
      "**************************************************\n",
      "Hello world\n",
      "**************************************************\n",
      "End Of Task #1\n",
      "**************************************************\n",
      "**************************************************\n",
      "Start Of Task #2: ADC\n",
      "**************************************************\n",
      "ADC reading: 0\n",
      "ADC reading: 0\n",
      "ADC reading: 128\n",
      "ADC reading: 390\n",
      "ADC reading: 908\n",
      "ADC reading: 1626\n",
      "ADC reading: 1136\n",
      "ADC reading: 91\n",
      "ADC reading: 433\n",
      "ADC reading: 1586\n",
      ".**************************************************\n",
      "End Of Task #2: ADC\n",
      "**************************************************\n"
     ]
    }
   ],
   "source": [
    "task_1()\n",
    "task_2_adc()"
   ]
  }
 ],
 "metadata": {
  "kernelspec": {
   "display_name": "MicroPython - USB",
   "language": "micropython",
   "name": "micropython"
  },
  "language_info": {
   "codemirror_mode": "python",
   "file_extension": ".py",
   "mimetype": "text/python",
   "name": "micropython"
  }
 },
 "nbformat": 4,
 "nbformat_minor": 5
}

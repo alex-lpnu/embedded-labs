{
 "cells": [
  {
   "cell_type": "code",
   "execution_count": 17,
   "id": "bd0a187f",
   "metadata": {},
   "outputs": [
    {
     "name": "stdout",
     "output_type": "stream",
     "text": [
      "serial exception on close write failed: [Errno 5] Input/output error\n",
      "\u001b[34mConnecting to --port=/dev/ttyUSB1 --baud=115200 \u001b[0m\n",
      "\u001b[34mReady.\n",
      "\u001b[0m"
     ]
    }
   ],
   "source": [
    "%serialconnect"
   ]
  },
  {
   "cell_type": "code",
   "execution_count": 57,
   "id": "f3e60faa",
   "metadata": {},
   "outputs": [],
   "source": [
    "from sht31 import SHT31\n",
    "from machine import I2C, Pin, Timer\n",
    "from common import task\n",
    "import time\n",
    "import pinout"
   ]
  },
  {
   "cell_type": "code",
   "execution_count": 65,
   "id": "ff219c96",
   "metadata": {},
   "outputs": [
    {
     "name": "stdout",
     "output_type": "stream",
     "text": [
      "**************************************************\n",
      "Start Of Task #1: File RW\n",
      "**************************************************\n",
      "Start sensor polling...\n",
      "Measure (23.28832, 53.31044) at 6995192\n",
      "Measure (23.33105, 53.16396) at 6995693\n",
      "Measure (23.33105, 53.10903) at 6996193\n",
      "Measure (23.31503, 52.99459) at 6996693\n",
      "Measure (23.31503, 52.87404) at 6997193\n",
      "Measure (23.31503, 52.80995) at 6997693\n",
      "Measure (23.31503, 52.73213) at 6998193\n",
      "Measure (23.31503, 52.57802) at 6998693\n",
      "Measure (23.30168, 52.42084) at 6999193\n",
      "\n",
      "Sensor polling end, collected csv data:\n",
      "\n",
      "#Time, Temp, Humidity\n",
      "6995192, 23.28832, 53.31044\n",
      "6995693, 23.33105, 53.16396\n",
      "6996193, 23.33105, 53.10903\n",
      "6996693, 23.31503, 52.99459\n",
      "6997193, 23.31503, 52.87404\n",
      "6997693, 23.31503, 52.80995\n",
      "6998193, 23.31503, 52.73213\n",
      "6998693, 23.31503, 52.57802\n",
      "6999193, 23.30168, 52.42084\n",
      "\n",
      "**************************************************\n",
      "End Of Task #1: File RW\n",
      "**************************************************\n",
      "Measure (23.2723, 52.31708) at 6999731\n"
     ]
    }
   ],
   "source": [
    "filename = '/user/temp_humidity.csv'\n",
    "\n",
    "def measure_cb_builder(s: SHT31):\n",
    "    def cb(timer):\n",
    "        sensor_value = s.get_temp_humi()\n",
    "        time_val = time.ticks_ms()\n",
    "        \n",
    "        print(f'Measure {sensor_value} at {time_val}')\n",
    "        \n",
    "        with open(filename, 'a') as f:\n",
    "            f.write(f'{time_val}, {sensor_value[0]}, {sensor_value[1]}\\n')\n",
    "    \n",
    "    return cb\n",
    "\n",
    "@task('1: File RW')\n",
    "def task_1_file_rw():\n",
    "    #Write csv header\n",
    "    with open(filename, 'w') as f:\n",
    "        f.write('#Time, Temp, Humidity\\n')\n",
    "    \n",
    "    i2c = I2C(0, scl=Pin(pinout.scl), sda=Pin(pinout.sda), freq=400000)\n",
    "    th_sensor = SHT31(i2c)\n",
    "    \n",
    "    print('Start sensor polling...')\n",
    "    tim = Timer(0)\n",
    "    tim.init(period=500, mode=Timer.PERIODIC, callback=measure_cb_builder(th_sensor))\n",
    "    \n",
    "    \n",
    "    time.sleep_ms(5000)\n",
    "    tim.deinit()\n",
    "    \n",
    "    print()\n",
    "    print('Sensor polling end, collected csv data:')\n",
    "    print()\n",
    "    \n",
    "    with open(filename, 'r') as f:\n",
    "        print(f.read())\n",
    "\n",
    "task_1_file_rw()"
   ]
  }
 ],
 "metadata": {
  "kernelspec": {
   "display_name": "MicroPython - USB",
   "language": "micropython",
   "name": "micropython"
  },
  "language_info": {
   "codemirror_mode": "python",
   "file_extension": ".py",
   "mimetype": "text/python",
   "name": "micropython"
  }
 },
 "nbformat": 4,
 "nbformat_minor": 5
}

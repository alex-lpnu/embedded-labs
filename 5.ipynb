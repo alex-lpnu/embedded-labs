{
 "cells": [
  {
   "cell_type": "code",
   "execution_count": 5,
   "id": "6bf4cfcc",
   "metadata": {},
   "outputs": [
    {
     "name": "stdout",
     "output_type": "stream",
     "text": [
      "serial exception on close write failed: [Errno 5] Input/output error\n",
      "\u001b[34mConnecting to --port=/dev/ttyUSB4 --baud=115200 \u001b[0m\n",
      "\u001b[34mReady.\n",
      "\u001b[0m"
     ]
    }
   ],
   "source": [
    "%serialconnect"
   ]
  },
  {
   "cell_type": "code",
   "execution_count": 40,
   "id": "2b678128",
   "metadata": {},
   "outputs": [],
   "source": [
    "import pinout\n",
    "from lsm6dso import LSM6DSO\n",
    "from machine import I2C, Pin, Timer\n",
    "import time\n",
    "from common import task"
   ]
  },
  {
   "cell_type": "code",
   "execution_count": 55,
   "id": "a4f0cef4",
   "metadata": {
    "scrolled": false
   },
   "outputs": [
    {
     "name": "stdout",
     "output_type": "stream",
     "text": [
      "**************************************************\n",
      "Start Of Task #1: Acc collecting\n",
      "**************************************************\n",
      "#dt, x, y, z\n",
      "997901446, -82, -62, 1002\n",
      "997934386, -167, -122, 2005\n",
      "997967378, -167, -122, 2005\n",
      "998000374, -81, -62, 1001\n",
      "998033378, -81, -62, 1001\n",
      "998066378, -81, -62, 1001\n",
      "998099378, -82, -62, 1003\n",
      "998132374, -82, -62, 1003\n",
      "998165378, -39, -28, 1027\n",
      "998198374, -39, -28, 1027\n",
      "998231378, -39, -28, 989\n",
      "998264374, -319, 28, 989\n",
      "998297378, -319, 28, 989\n",
      "998330374, -478, -415, 1600\n",
      "998363378, -478, -415, 1600\n",
      "998396374, -454, -156, 1002\n",
      "998429378, -454, -156, 1002\n",
      "998462374, -454, -156, 1002\n",
      "998495378, -524, -260, 777\n",
      "998528374, -524, -260, 777\n",
      "998561378, -672, -421, 556\n",
      "998594374, -672, -421, 556\n",
      "998627378, -672, -421, 556\n",
      "998660374, -732, -461, 399\n",
      "998693378, -732, -461, 399\n",
      "998726374, -721, -384, -111\n",
      "998759374, -721, -384, -111\n",
      "998792370, -721, -384, -376\n",
      "998825374, -644, -360, -376\n",
      "998858370, -644, -360, -376\n",
      "\n",
      "**************************************************\n",
      "End Of Task #1: Acc collecting\n",
      "**************************************************\n"
     ]
    }
   ],
   "source": [
    "i2c = I2C(0, scl=Pin(pinout.scl), sda=Pin(pinout.sda), freq=1000000)\n",
    "mems = LSM6DSO(i2c)\n",
    "mems.scale_a('16g')\n",
    "\n",
    "acc_filename = '/user/acc.csv'\n",
    "freq = 30\n",
    "\n",
    "\n",
    "def build_cb(buf):\n",
    "    def measure_store(tim):\n",
    "        t = time.ticks_us()\n",
    "        val = mems.get_a()\n",
    "    \n",
    "        buf.append({\n",
    "            'dt': t,\n",
    "            'acc': tuple(val)\n",
    "        })\n",
    "    return measure_store\n",
    "        \n",
    "@task('1: Acc collecting')\n",
    "def task_1_acc_collecting(duration):\n",
    "    with open(acc_filename, 'w') as f:\n",
    "        f.write(\"#dt, x, y, z\\n\")\n",
    "    \n",
    "    buf = list()\n",
    "    \n",
    "    tim = Timer(0)\n",
    "    tim.init(period=int(1000/freq), mode=Timer.PERIODIC, callback=build_cb(buf))\n",
    "    \n",
    "    time.sleep(duration)\n",
    "    tim.deinit()\n",
    "    \n",
    "    \n",
    "    with open(acc_filename, 'a') as f:\n",
    "        for m in buf:\n",
    "            f.write(f\"{m['dt']}, {m['acc'][0]}, {m['acc'][1]}, {m['acc'][2]}\\n\")\n",
    "    \n",
    "    with open(acc_filename, 'r') as f:\n",
    "        print(f.read())\n",
    "\n",
    "    \n",
    "task_1_acc_collecting(1)"
   ]
  }
 ],
 "metadata": {
  "kernelspec": {
   "display_name": "MicroPython - USB",
   "language": "micropython",
   "name": "micropython"
  },
  "language_info": {
   "codemirror_mode": "python",
   "file_extension": ".py",
   "mimetype": "text/python",
   "name": "micropython"
  }
 },
 "nbformat": 4,
 "nbformat_minor": 5
}

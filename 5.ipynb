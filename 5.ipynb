{
 "cells": [
  {
   "cell_type": "code",
   "execution_count": 5,
   "id": "c55e4428",
   "metadata": {},
   "outputs": [
    {
     "name": "stdout",
     "output_type": "stream",
     "text": [
      "serial exception on close write failed: [Errno 5] Input/output error\n",
      "\u001b[34mConnecting to --port=/dev/ttyUSB4 --baud=115200 \u001b[0m\n",
      "\u001b[34mReady.\n",
      "\u001b[0m"
     ]
    }
   ],
   "source": [
    "%serialconnect"
   ]
  },
  {
   "cell_type": "code",
   "execution_count": 100,
   "id": "3e1f9976",
   "metadata": {},
   "outputs": [],
   "source": [
    "import pinout\n",
    "from lsm6dso import LSM6DSO\n",
    "from machine import I2C, Pin, Timer\n",
    "import time\n",
    "from common import task"
   ]
  },
  {
   "cell_type": "code",
   "execution_count": 102,
   "id": "ea91a2ff",
   "metadata": {
    "scrolled": false
   },
   "outputs": [
    {
     "name": "stderr",
     "output_type": "stream",
     "text": [
      "MemoryError: memory allocation failed, allocating 512 bytes\r\n"
     ]
    }
   ],
   "source": [
    "i2c = I2C(0, scl=Pin(pinout.scl), sda=Pin(pinout.sda), freq=1000000)\n",
    "mems = LSM6DSO(i2c)\n",
    "mems.scale_a('16g')\n",
    "\n",
    "acc_filename = '/user/acc.csv'\n",
    "\n",
    "\n",
    "def build_cb(buf):\n",
    "    def measure_store(tim):\n",
    "        t = time.ticks_us()\n",
    "        val = mems.get_a()\n",
    "    \n",
    "        buf.append({\n",
    "            'dt': t,\n",
    "            'acc': tuple(val)\n",
    "        })\n",
    "    return measure_store\n",
    "        \n",
    "@task('1: Acc collecting')\n",
    "def task_1_acc_collecting(duration, freq):\n",
    "    with open(acc_filename, 'w') as f:\n",
    "        f.write(\"#dt, x, y, z\\n\")\n",
    "    \n",
    "        buf = list()\n",
    "    \n",
    "        tim = Timer(0)\n",
    "        tim.init(period=int(1000/freq), mode=Timer.PERIODIC, callback=build_cb(buf))\n",
    "    \n",
    "        time.sleep(duration)\n",
    "        tim.deinit()\n",
    "    \n",
    "        for m in buf:\n",
    "            f.write(f\"{m['dt']}, {m['acc'][0]}, {m['acc'][1]}, {m['acc'][2]}\\n\")\n",
    "    \n",
    "    print(f'Data written to {acc_filename}')\n",
    "    \n",
    "    \n",
    "task_1_acc_collecting(30, 30)"
   ]
  }
 ],
 "metadata": {
  "kernelspec": {
   "display_name": "MicroPython - USB",
   "language": "micropython",
   "name": "micropython"
  },
  "language_info": {
   "codemirror_mode": "python",
   "file_extension": ".py",
   "mimetype": "text/python",
   "name": "micropython"
  }
 },
 "nbformat": 4,
 "nbformat_minor": 5
}

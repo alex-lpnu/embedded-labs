{
 "cells": [
  {
   "cell_type": "code",
   "execution_count": 1,
   "id": "1a20c2cf",
   "metadata": {},
   "outputs": [
    {
     "name": "stdout",
     "output_type": "stream",
     "text": [
      "\u001b[34mConnecting to --port=/dev/ttyUSB0 --baud=115200 \u001b[0m\n",
      "\u001b[34mReady.\n",
      "\u001b[0m"
     ]
    }
   ],
   "source": [
    "%serialconnect"
   ]
  },
  {
   "cell_type": "code",
   "execution_count": 12,
   "id": "da7a9e35",
   "metadata": {},
   "outputs": [],
   "source": [
    "from machine import Pin\n",
    "from common import task\n",
    "import pinout\n",
    "import time"
   ]
  },
  {
   "cell_type": "code",
   "execution_count": 39,
   "id": "1bd32a2f",
   "metadata": {},
   "outputs": [
    {
     "name": "stdout",
     "output_type": "stream",
     "text": [
      "**************************************************\n",
      "Start Of Task #1: ISR counter\n",
      "**************************************************\n",
      "**************************************************\n",
      "End Of Task #1: ISR counter\n",
      "**************************************************\n",
      ".Button pressed 0 times on Pin(18)!\n",
      "Button pressed 1 times on Pin(18)!\n",
      "Button pressed 2 times on Pin(18)!\n",
      "Button pressed 3 times on Pin(18)!\n",
      "Button pressed 4 times on Pin(18)!\n",
      "Button pressed 5 times on Pin(18)!\n",
      "Button pressed 6 times on Pin(18)!\n",
      "Button pressed 7 times on Pin(18)!\n",
      "Button pressed 8 times on Pin(18)!\n",
      "Button pressed 9 times on Pin(18)!\n",
      "Button pressed 10 times on Pin(18)!\n",
      "Button pressed 11 times on Pin(18)!\n",
      "Button pressed 12 times on Pin(18)!\n",
      "Button pressed 13 times on Pin(18)!\n",
      "Button pressed 14 times on Pin(18)!\n",
      "Button pressed 15 times on Pin(18)!\n",
      "Button pressed 16 times on Pin(18)!\n",
      "Button pressed 17 times on Pin(18)!\n",
      "Button pressed 18 times on Pin(18)!\n",
      "Button pressed 19 times on Pin(18)!\n",
      "Button pressed 20 times on Pin(18)!\n"
     ]
    }
   ],
   "source": [
    "n = 0\n",
    "\n",
    "def press_handler(pin):\n",
    "    global n\n",
    "    print(f'Button pressed {n} times on {pin}!')\n",
    "    Pin(pinout.leds[0], Pin.OUT).value(n%2)\n",
    "    n = n+1\n",
    "\n",
    "@task('1: ISR counter')\n",
    "def task_1_isr():    \n",
    "    btn = Pin(pinout.buttons[0])\n",
    "    btn.irq(press_handler, Pin.IRQ_RISING)\n",
    "    \n",
    "task_1_isr()\n",
    "time.sleep(5)"
   ]
  },
  {
   "cell_type": "code",
   "execution_count": 38,
   "id": "b3774995",
   "metadata": {},
   "outputs": [
    {
     "name": "stdout",
     "output_type": "stream",
     "text": [
      "27\r\n"
     ]
    }
   ],
   "source": []
  }
 ],
 "metadata": {
  "kernelspec": {
   "display_name": "MicroPython - USB",
   "language": "micropython",
   "name": "micropython"
  },
  "language_info": {
   "codemirror_mode": "python",
   "file_extension": ".py",
   "mimetype": "text/python",
   "name": "micropython"
  }
 },
 "nbformat": 4,
 "nbformat_minor": 5
}

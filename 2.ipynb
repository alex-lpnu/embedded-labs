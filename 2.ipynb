{
 "cells": [
  {
   "cell_type": "code",
   "execution_count": 1,
   "id": "19bd9731",
   "metadata": {},
   "outputs": [
    {
     "name": "stdout",
     "output_type": "stream",
     "text": [
      "\u001b[34mConnecting to --port=/dev/ttyUSB0 --baud=115200 \u001b[0m\n",
      "\u001b[34mReady.\n",
      "\u001b[0m"
     ]
    }
   ],
   "source": [
    "%serialconnect"
   ]
  },
  {
   "cell_type": "code",
   "execution_count": 54,
   "id": "fda67ddc",
   "metadata": {},
   "outputs": [],
   "source": [
    "from machine import Pin, Timer, ADC\n",
    "from common import task\n",
    "import pinout\n",
    "import time"
   ]
  },
  {
   "cell_type": "code",
   "execution_count": 41,
   "id": "ebce768a",
   "metadata": {},
   "outputs": [
    {
     "name": "stdout",
     "output_type": "stream",
     "text": [
      "**************************************************\n",
      "Start Of Task #1: ISR counter\n",
      "**************************************************\n",
      "Button pressed 0 times on Pin(18)!\n",
      "Button pressed 1 times on Pin(18)!\n",
      "Button pressed 2 times on Pin(18)!\n",
      "Button pressed 3 times on Pin(18)!\n",
      "Button pressed 4 times on Pin(18)!\n",
      "Button pressed 5 times on Pin(18)!\n",
      "Button pressed 6 times on Pin(18)!\n",
      "Button pressed 7 times on Pin(18)!\n",
      "Button pressed 8 times on Pin(18)!\n",
      "Button pressed 9 times on Pin(18)!\n",
      "Button pressed 10 times on Pin(18)!\n",
      "Button pressed 11 times on Pin(18)!\n",
      ".**************************************************\n",
      "End Of Task #1: ISR counter\n",
      "**************************************************\n"
     ]
    }
   ],
   "source": [
    "n = 0\n",
    "\n",
    "def press_handler(pin):\n",
    "    global n\n",
    "    print(f'Button pressed {n} times on {pin}!')\n",
    "    Pin(pinout.leds[0], Pin.OUT).value(n%2)\n",
    "    n = n+1\n",
    "\n",
    "@task('1: ISR counter')\n",
    "def task_1_isr():    \n",
    "    btn = Pin(pinout.buttons[0])\n",
    "    btn.irq(press_handler, Pin.IRQ_RISING)\n",
    "    time.sleep(5)\n",
    "    \n",
    "task_1_isr()"
   ]
  },
  {
   "cell_type": "code",
   "execution_count": null,
   "id": "cec879e8",
   "metadata": {},
   "outputs": [
    {
     "name": "stdout",
     "output_type": "stream",
     "text": [
      "**************************************************\n",
      "Start Of Task #2: HW timers\n",
      "**************************************************\n",
      "Timer 0 with period 5000 ms started!\n",
      "Timer 1 with period 2000 ms started!\n",
      "Timer 2 with period 1000 ms started!\n",
      "Timer 3 with period 100 ms started!\n",
      "Timer 4 with period 1500 ms started!\n",
      "Shot of 3 timer, potentiometer value: 4095!\n",
      "Shot of 2 timer, potentiometer value: 4095!\n",
      "Shot of 4 timer, potentiometer value: 4087!\n",
      "Shot of 1 timer, potentiometer value: 2391!\n",
      "."
     ]
    }
   ],
   "source": [
    "def timer_cb_builder(tim_no):\n",
    "    def cb(timer):\n",
    "        adc = ADC(Pin(pinout.potentiometer))\n",
    "        adc.atten(ADC.ATTN_11DB)\n",
    "        print(f'Shot of {tim_no} timer, potentiometer value: {adc.read()}!')\n",
    "\n",
    "    return cb\n",
    "\n",
    "@task('2: HW timers')\n",
    "def task_2_hw_timers():\n",
    "    timer_periods = (5000, 2000, 1000, 100, 1500)\n",
    "    \n",
    "    for i, p in zip(range(len(timer_periods)), timer_periods):\n",
    "        tim = Timer(i)\n",
    "        tim.init(period=p, mode=Timer.ONE_SHOT, callback=timer_cb_builder(i))\n",
    "        print(f'Timer {i} with period {p} ms started!')\n",
    "    \n",
    "    time.sleep_ms(max(timer_periods) + 100)\n",
    "    \n",
    "task_2_hw_timers()"
   ]
  }
 ],
 "metadata": {
  "kernelspec": {
   "display_name": "MicroPython - USB",
   "language": "micropython",
   "name": "micropython"
  },
  "language_info": {
   "codemirror_mode": "python",
   "file_extension": ".py",
   "mimetype": "text/python",
   "name": "micropython"
  }
 },
 "nbformat": 4,
 "nbformat_minor": 5
}

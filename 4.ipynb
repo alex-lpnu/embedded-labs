{
 "cells": [
  {
   "cell_type": "code",
   "execution_count": 1,
   "id": "5a7eeb92",
   "metadata": {},
   "outputs": [
    {
     "name": "stdout",
     "output_type": "stream",
     "text": [
      "\u001b[34mConnecting to --port=/dev/ttyUSB2 --baud=115200 \u001b[0m\n",
      "\u001b[34mReady.\n",
      "\u001b[0m"
     ]
    }
   ],
   "source": [
    "%serialconnect"
   ]
  },
  {
   "cell_type": "code",
   "execution_count": 31,
   "id": "310cb39a",
   "metadata": {},
   "outputs": [],
   "source": [
    "from machine import freq\n",
    "from common import task\n",
    "import time\n",
    "import random"
   ]
  },
  {
   "cell_type": "code",
   "execution_count": 48,
   "id": "dcc77371",
   "metadata": {},
   "outputs": [],
   "source": [
    "frequencies = (\n",
    "    40000000,\n",
    "    80000000,\n",
    "    160000000,\n",
    "    240000000\n",
    ")\n",
    "\n",
    "def bench(cb, repeat, *args, **kwargs):\n",
    "    for f in frequencies:\n",
    "        freq(f)\n",
    "        \n",
    "        alg_time = []\n",
    "        for i in range(repeat):\n",
    "            time_start = time.ticks_us()\n",
    "            cb(*args, **kwargs)\n",
    "            time_end = time.ticks_us()\n",
    "            \n",
    "            alg_time.append(time.ticks_diff(time_end, time_start))\n",
    "        \n",
    "        #print(f'{cb.__name__} at {f/1000000} MHz: best/worse/average: {min(alg_time)}/{max(alg_time)}/{sum(alg_time)/len(alg_time)}')\n",
    "        \n",
    "        yield {\n",
    "            'func': cb.__name__,\n",
    "            'freq': f,\n",
    "            'min': min(alg_time),\n",
    "            'max': max(alg_time),\n",
    "            'avg': sum(alg_time)/len(alg_time)\n",
    "        }\n",
    "        "
   ]
  },
  {
   "cell_type": "code",
   "execution_count": 51,
   "id": "52a56ce3",
   "metadata": {},
   "outputs": [
    {
     "name": "stdout",
     "output_type": "stream",
     "text": [
      "**************************************************\n",
      "Start Of Task #1: Bubble sort\n",
      "**************************************************\n",
      "bubbleSort([5, 9, 8, 5, 6]) => [5, 5, 6, 8, 9]\n",
      "\n",
      "Test bubble sort for 5 elements:\n",
      "freq: 40000000, min/max/avg: 1483/2392/1756.1\n",
      "freq: 80000000, min/max/avg: 611/1138/650.0999\n",
      "freq: 160000000, min/max/avg: 412/929/444.6\n",
      "freq: 240000000, min/max/avg: 342/866/372.65\n",
      "\n",
      "Test bubble sort for 10 elements:\n",
      "freq: 40000000, min/max/avg: 3110/4008/3186.25\n",
      "freq: 80000000, min/max/avg: 1554/2084/1607.2\n",
      "freq: 160000000, min/max/avg: 886/1398/919.3\n",
      "freq: 240000000, min/max/avg: 657/1185/689.5\n",
      "\n",
      "Test bubble sort for 50 elements:\n",
      "freq: 40000000, min/max/avg: 59726/60626/59839.4\n",
      "freq: 80000000, min/max/avg: 29815/30341/29870.55\n",
      "freq: 160000000, min/max/avg: 14999/15517/15044.25\n",
      "freq: 240000000, min/max/avg: 10065/10592/10102.6\n",
      "\n",
      "Test bubble sort for 100 elements:\n",
      ".freq: 40000000, min/max/avg: 227244/228119/227393.0\n",
      "freq: 80000000, min/max/avg: 113434/113955/113516.6\n",
      "freq: 160000000, min/max/avg: 56783/57294/56850.05\n",
      "freq: 240000000, min/max/avg: 37918/39837/38061.4\n",
      "\n",
      "Test bubble sort for 200 elements:\n",
      "....freq: 40000000, min/max/avg: 874919/875952/875267.1\n",
      "..freq: 80000000, min/max/avg: 437001/437763/437256.2\n",
      "freq: 160000000, min/max/avg: 218422/218936/218490.1\n",
      ".freq: 240000000, min/max/avg: 145675/146199/145743.4\n",
      "**************************************************\n",
      "End Of Task #1: Bubble sort\n",
      "**************************************************\n"
     ]
    }
   ],
   "source": [
    "def bubbleSort(arr_in):\n",
    "    arr = list(arr_in)\n",
    "    n = len(arr)\n",
    " \n",
    "    # Traverse through all array elements\n",
    "    for i in range(n-1):\n",
    "    # range(n) also work but outer loop will repeat one time more than needed.\n",
    " \n",
    "        # Last i elements are already in place\n",
    "        for j in range(0, n-i-1):\n",
    " \n",
    "            # traverse the array from 0 to n-i-1\n",
    "            # Swap if the element found is greater\n",
    "            # than the next element\n",
    "            if arr[j] > arr[j + 1] :\n",
    "                arr[j], arr[j + 1] = arr[j + 1], arr[j]\n",
    "    return arr\n",
    "        \n",
    "\n",
    "        \n",
    "@task('1: Bubble sort')\n",
    "def task_1_bubble_sort():\n",
    "    print(f'bubbleSort([5, 9, 8, 5, 6]) => {bubbleSort([5, 9, 8, 5, 6])}')\n",
    "    \n",
    "    element_counts = (5, 10, 50, 100, 200)\n",
    "    \n",
    "    for cnt in element_counts:\n",
    "        test_set = tuple( (random.randint(0, 100000) for i in range(cnt)) )\n",
    "        \n",
    "        print(f'\\nTest bubble sort for {cnt} elements:')\n",
    "        for i in bench(bubbleSort, 20, test_set):\n",
    "            print(f'freq: {i[\"freq\"]}, min/max/avg: {i[\"min\"]}/{i[\"max\"]}/{i[\"avg\"]}')\n",
    "        #print(tuple())\n",
    "        \n",
    "task_1_bubble_sort()    "
   ]
  }
 ],
 "metadata": {
  "kernelspec": {
   "display_name": "MicroPython - USB",
   "language": "micropython",
   "name": "micropython"
  },
  "language_info": {
   "codemirror_mode": "python",
   "file_extension": ".py",
   "mimetype": "text/python",
   "name": "micropython"
  }
 },
 "nbformat": 4,
 "nbformat_minor": 5
}

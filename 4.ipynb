{
 "cells": [
  {
   "cell_type": "code",
   "execution_count": 1,
   "id": "a2c4d52a",
   "metadata": {},
   "outputs": [
    {
     "name": "stdout",
     "output_type": "stream",
     "text": [
      "\u001b[34mConnecting to --port=/dev/ttyUSB2 --baud=115200 \u001b[0m\n",
      "\u001b[34mReady.\n",
      "\u001b[0m"
     ]
    }
   ],
   "source": [
    "%serialconnect"
   ]
  },
  {
   "cell_type": "code",
   "execution_count": 63,
   "id": "0be09af8",
   "metadata": {},
   "outputs": [],
   "source": [
    "from machine import freq\n",
    "from common import task\n",
    "import time\n",
    "import random"
   ]
  },
  {
   "cell_type": "code",
   "execution_count": 64,
   "id": "37f0c321",
   "metadata": {},
   "outputs": [],
   "source": [
    "frequencies = (\n",
    "    40000000,\n",
    "    80000000,\n",
    "    160000000,\n",
    "    240000000\n",
    ")\n",
    "\n",
    "def bench(cb, repeat, *args, **kwargs):\n",
    "    for f in frequencies:\n",
    "        freq(f)\n",
    "        \n",
    "        alg_time = []\n",
    "        for i in range(repeat):\n",
    "            time_start = time.ticks_us()\n",
    "            cb(*args, **kwargs)\n",
    "            time_end = time.ticks_us()\n",
    "            \n",
    "            alg_time.append(time.ticks_diff(time_end, time_start))\n",
    "        \n",
    "        #print(f'{cb.__name__} at {f/1000000} MHz: best/worse/average: {min(alg_time)}/{max(alg_time)}/{sum(alg_time)/len(alg_time)}')\n",
    "        \n",
    "        yield {\n",
    "            'freq': f,\n",
    "            'min': min(alg_time),\n",
    "            'max': max(alg_time),\n",
    "            'avg': sum(alg_time)/len(alg_time)\n",
    "        }\n",
    "        "
   ]
  },
  {
   "cell_type": "code",
   "execution_count": 57,
   "id": "2393dd1f",
   "metadata": {},
   "outputs": [
    {
     "name": "stdout",
     "output_type": "stream",
     "text": [
      "**************************************************\n",
      "Start Of Task #1: Bubble sort\n",
      "**************************************************\n",
      "bubbleSort([5, 9, 8, 5, 6]) => [5, 5, 6, 8, 9]\n",
      "\n",
      "Test bubble sort for 5 elements:\n",
      "freq: 40MHz, min/max/avg (us): 1172/2077/1243.2\n",
      "freq: 80MHz, min/max/avg (us): 580/1107/616.8\n",
      "freq: 160MHz, min/max/avg (us): 400/913/432.1\n",
      "freq: 240MHz, min/max/avg (us): 335/859/365.4\n",
      "\n",
      "Test bubble sort for 10 elements:\n",
      "freq: 40MHz, min/max/avg (us): 3066/3947/3151.15\n",
      "freq: 80MHz, min/max/avg (us): 1531/2056/1573.45\n",
      "freq: 160MHz, min/max/avg (us): 870/1391/903.4\n",
      "freq: 240MHz, min/max/avg (us): 646/1166/677.3\n",
      "\n",
      "Test bubble sort for 50 elements:\n",
      "freq: 40MHz, min/max/avg (us): 55065/55949/55190.7\n",
      "freq: 80MHz, min/max/avg (us): 27489/28009/27551.45\n",
      "freq: 160MHz, min/max/avg (us): 13842/14356/13885.7\n",
      "freq: 240MHz, min/max/avg (us): 9293/9818/9334.0\n",
      "\n",
      "Test bubble sort for 100 elements:\n",
      ".freq: 40MHz, min/max/avg (us): 227406/239089/228050.6\n",
      "freq: 80MHz, min/max/avg (us): 113576/114097/113633.1\n",
      "freq: 160MHz, min/max/avg (us): 56881/57402/56923.3\n",
      "freq: 240MHz, min/max/avg (us): 37935/38454/37967.8\n",
      "\n",
      "Test bubble sort for 200 elements:\n",
      "....freq: 40MHz, min/max/avg (us): 883766/884656/884081.6\n",
      "..freq: 80MHz, min/max/avg (us): 441384/441900/441471.8\n",
      "freq: 160MHz, min/max/avg (us): 220576/223562/220806.4\n",
      ".freq: 240MHz, min/max/avg (us): 147094/147611/147140.8\n",
      "**************************************************\n",
      "End Of Task #1: Bubble sort\n",
      "**************************************************\n"
     ]
    }
   ],
   "source": [
    "def bubbleSort(arr_in):\n",
    "    arr = list(arr_in)\n",
    "    n = len(arr)\n",
    " \n",
    "    # Traverse through all array elements\n",
    "    for i in range(n-1):\n",
    "    # range(n) also work but outer loop will repeat one time more than needed.\n",
    " \n",
    "        # Last i elements are already in place\n",
    "        for j in range(0, n-i-1):\n",
    " \n",
    "            # traverse the array from 0 to n-i-1\n",
    "            # Swap if the element found is greater\n",
    "            # than the next element\n",
    "            if arr[j] > arr[j + 1] :\n",
    "                arr[j], arr[j + 1] = arr[j + 1], arr[j]\n",
    "    return arr\n",
    "        \n",
    "\n",
    "        \n",
    "@task('1: Bubble sort')\n",
    "def task_1_bubble_sort():\n",
    "    print(f'bubbleSort([5, 9, 8, 5, 6]) => {bubbleSort([5, 9, 8, 5, 6])}')\n",
    "    \n",
    "    element_counts = (5, 10, 50, 100, 200)\n",
    "    \n",
    "    for cnt in element_counts:\n",
    "        test_set = tuple( (random.randint(0, 100000) for i in range(cnt)) )\n",
    "        \n",
    "        print(f'\\nTest bubble sort for {cnt} elements:')\n",
    "        for i in bench(bubbleSort, 20, test_set):\n",
    "            print(f'freq: {int(i[\"freq\"]/1000000)}MHz, min/max/avg (us): {i[\"min\"]}/{i[\"max\"]}/{i[\"avg\"]}')\n",
    "        \n",
    "task_1_bubble_sort()    "
   ]
  },
  {
   "cell_type": "code",
   "execution_count": 66,
   "id": "0e25d845",
   "metadata": {},
   "outputs": [
    {
     "name": "stdout",
     "output_type": "stream",
     "text": [
      "**************************************************\n",
      "Start Of Task #2: Built-in sort\n",
      "**************************************************\n",
      "\n",
      "Test built-in sort for 50 elements:\n",
      "freq: 40000000, min/max/avg: 1644/13369/3074.3\n",
      "freq: 80000000, min/max/avg: 869/1105/897.3499\n",
      "freq: 160000000, min/max/avg: 449/678/471.3\n",
      "freq: 240000000, min/max/avg: 328/562/348.5\n",
      "\n",
      "Test built-in sort for 100 elements:\n",
      "freq: 40000000, min/max/avg: 3638/4063/3712.5\n",
      "freq: 80000000, min/max/avg: 1803/2030/1846.2\n",
      "freq: 160000000, min/max/avg: 943/1170/971.8499\n",
      "freq: 240000000, min/max/avg: 657/889/680.2999\n",
      "\n",
      "Test built-in sort for 1000 elements:\n",
      "freq: 40000000, min/max/avg: 43693/55385/44604.25\n",
      "freq: 80000000, min/max/avg: 21811/28823/22671.6\n",
      "freq: 160000000, min/max/avg: 10920/14312/11305.2\n",
      "freq: 240000000, min/max/avg: 7308/9608/7569.8\n",
      "\n",
      "Test built-in sort for 2000 elements:\n",
      "freq: 40000000, min/max/avg: 88213/106218/90529.2\n",
      "freq: 80000000, min/max/avg: 44021/51430/45001.35\n",
      "freq: 160000000, min/max/avg: 22038/25989/22548.95\n",
      "freq: 240000000, min/max/avg: 14718/17259/15054.0\n",
      "**************************************************\n",
      "End Of Task #2: Built-in sort\n",
      "**************************************************\n"
     ]
    }
   ],
   "source": [
    "@task('2: Built-in sort')\n",
    "def task_built_in_sort():\n",
    "    element_counts = (50, 100, 1000, 2000)\n",
    "    \n",
    "    for cnt in element_counts:\n",
    "        test_set = tuple( (random.randint(0, 100000) for i in range(cnt)) )\n",
    "        \n",
    "        print(f'\\nTest built-in sort for {cnt} elements:')\n",
    "        for i in bench(sorted, 20, test_set):\n",
    "            print(f'freq: {i[\"freq\"]}, min/max/avg: {i[\"min\"]}/{i[\"max\"]}/{i[\"avg\"]}')\n",
    "\n",
    "task_built_in_sort()"
   ]
  }
 ],
 "metadata": {
  "kernelspec": {
   "display_name": "MicroPython - USB",
   "language": "micropython",
   "name": "micropython"
  },
  "language_info": {
   "codemirror_mode": "python",
   "file_extension": ".py",
   "mimetype": "text/python",
   "name": "micropython"
  }
 },
 "nbformat": 4,
 "nbformat_minor": 5
}
